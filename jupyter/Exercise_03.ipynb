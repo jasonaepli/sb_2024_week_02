{
 "cells": [
  {
   "cell_type": "markdown",
   "id": "a8693c05-992b-4298-9bac-7a8e7f1cfa7e",
   "metadata": {},
   "source": [
    "# Exercise 03: Precision, Recall, F-Score, and Support"
   ]
  },
  {
   "cell_type": "markdown",
   "id": "24344e16-6c18-4712-8ad8-132c2b8842af",
   "metadata": {},
   "source": [
    "**DO NOT ATTEMPT THIS EXERCISE UNTIL YOU HAVE COMPLETED EXERCISE 01!**\n",
    "\n",
    "First, we're going to make sure the necessary modules are installed:"
   ]
  },
  {
   "cell_type": "code",
   "execution_count": 2,
   "id": "34bd8673-7d79-441a-928c-0aa49a663c1b",
   "metadata": {
    "scrolled": true
   },
   "outputs": [
    {
     "name": "stdout",
     "output_type": "stream",
     "text": [
      "Requirement already satisfied: scikit-learn in /home/jason/.pyenv/versions/3.10.13/envs/sb24/lib/python3.10/site-packages (1.4.1.post1)\n",
      "Requirement already satisfied: matplotlib in /home/jason/.pyenv/versions/3.10.13/envs/sb24/lib/python3.10/site-packages (3.8.3)\n",
      "Requirement already satisfied: numpy<2.0,>=1.19.5 in /home/jason/.pyenv/versions/3.10.13/envs/sb24/lib/python3.10/site-packages (from scikit-learn) (1.26.4)\n",
      "Requirement already satisfied: scipy>=1.6.0 in /home/jason/.pyenv/versions/3.10.13/envs/sb24/lib/python3.10/site-packages (from scikit-learn) (1.12.0)\n",
      "Requirement already satisfied: joblib>=1.2.0 in /home/jason/.pyenv/versions/3.10.13/envs/sb24/lib/python3.10/site-packages (from scikit-learn) (1.3.2)\n",
      "Requirement already satisfied: threadpoolctl>=2.0.0 in /home/jason/.pyenv/versions/3.10.13/envs/sb24/lib/python3.10/site-packages (from scikit-learn) (3.3.0)\n",
      "Requirement already satisfied: contourpy>=1.0.1 in /home/jason/.pyenv/versions/3.10.13/envs/sb24/lib/python3.10/site-packages (from matplotlib) (1.2.0)\n",
      "Requirement already satisfied: cycler>=0.10 in /home/jason/.pyenv/versions/3.10.13/envs/sb24/lib/python3.10/site-packages (from matplotlib) (0.12.1)\n",
      "Requirement already satisfied: fonttools>=4.22.0 in /home/jason/.pyenv/versions/3.10.13/envs/sb24/lib/python3.10/site-packages (from matplotlib) (4.49.0)\n",
      "Requirement already satisfied: kiwisolver>=1.3.1 in /home/jason/.pyenv/versions/3.10.13/envs/sb24/lib/python3.10/site-packages (from matplotlib) (1.4.5)\n",
      "Requirement already satisfied: packaging>=20.0 in /home/jason/.pyenv/versions/3.10.13/envs/sb24/lib/python3.10/site-packages (from matplotlib) (23.2)\n",
      "Requirement already satisfied: pillow>=8 in /home/jason/.pyenv/versions/3.10.13/envs/sb24/lib/python3.10/site-packages (from matplotlib) (10.2.0)\n",
      "Requirement already satisfied: pyparsing>=2.3.1 in /home/jason/.pyenv/versions/3.10.13/envs/sb24/lib/python3.10/site-packages (from matplotlib) (3.1.1)\n",
      "Requirement already satisfied: python-dateutil>=2.7 in /home/jason/.pyenv/versions/3.10.13/envs/sb24/lib/python3.10/site-packages (from matplotlib) (2.8.2)\n",
      "Requirement already satisfied: six>=1.5 in /home/jason/.pyenv/versions/3.10.13/envs/sb24/lib/python3.10/site-packages (from python-dateutil>=2.7->matplotlib) (1.16.0)\n"
     ]
    }
   ],
   "source": [
    "import sys\n",
    "!{sys.executable} -m pip install -U scikit-learn matplotlib"
   ]
  },
  {
   "cell_type": "markdown",
   "id": "984ce129-dd03-4c30-b93d-d7237f418130",
   "metadata": {},
   "source": [
    "Run the following code:"
   ]
  },
  {
   "cell_type": "code",
   "execution_count": 2,
   "id": "d8bb40cb-130a-4d9a-8cde-9ab2938a125f",
   "metadata": {},
   "outputs": [
    {
     "name": "stdout",
     "output_type": "stream",
     "text": [
      "              precision    recall  f1-score   support\n",
      "\n",
      "           1       0.33      1.00      0.50         3\n",
      "           2       0.00      0.00      0.00         3\n",
      "           3       0.00      0.00      0.00         3\n",
      "\n",
      "    accuracy                           0.33         9\n",
      "   macro avg       0.11      0.33      0.17         9\n",
      "weighted avg       0.11      0.33      0.17         9\n",
      "\n",
      "\n"
     ]
    },
    {
     "name": "stderr",
     "output_type": "stream",
     "text": [
      "/home/jason/.pyenv/versions/3.10.13/envs/sb24/lib/python3.10/site-packages/sklearn/metrics/_classification.py:1509: UndefinedMetricWarning: Precision is ill-defined and being set to 0.0 in labels with no predicted samples. Use `zero_division` parameter to control this behavior.\n",
      "  _warn_prf(average, modifier, f\"{metric.capitalize()} is\", len(result))\n",
      "/home/jason/.pyenv/versions/3.10.13/envs/sb24/lib/python3.10/site-packages/sklearn/metrics/_classification.py:1509: UndefinedMetricWarning: Precision is ill-defined and being set to 0.0 in labels with no predicted samples. Use `zero_division` parameter to control this behavior.\n",
      "  _warn_prf(average, modifier, f\"{metric.capitalize()} is\", len(result))\n",
      "/home/jason/.pyenv/versions/3.10.13/envs/sb24/lib/python3.10/site-packages/sklearn/metrics/_classification.py:1509: UndefinedMetricWarning: Precision is ill-defined and being set to 0.0 in labels with no predicted samples. Use `zero_division` parameter to control this behavior.\n",
      "  _warn_prf(average, modifier, f\"{metric.capitalize()} is\", len(result))\n"
     ]
    }
   ],
   "source": [
    "from sklearn.metrics import classification_report\n",
    "\n",
    "y_true = [1,2,3,1,2,3,1,2,3]\n",
    "y_pred = [1,1,1,1,1,1,1,1,1]\n",
    "print(\n",
    "    f\"{classification_report(y_true, y_pred)}\\n\"\n",
    ")"
   ]
  },
  {
   "cell_type": "markdown",
   "id": "65914ddb-af57-4c4a-848c-58ffab5aaf2d",
   "metadata": {},
   "source": [
    "Explain the strengths and weaknesses of the classifier that produced these results.  Why do we get warnings?  How would the report change if the values in the input vectors were rearranged?"
   ]
  },
  {
   "cell_type": "markdown",
   "id": "371b5e52-794f-43d1-90da-e30979905c45",
   "metadata": {},
   "source": [
    "## Stengths and Weaknesses\n",
    "This classifier has a fairly poor precision score for all cases since it generated a significant false positive rate yet its recall score was 100% when the true value was '1' since it always predicted the value was '1.'  \n",
    "\n",
    "## Warnings\n",
    "I'm not quite sure why we are getting warnings.  They seem to indicate that there is some division by zero occuring, but based off the formula for both precision and recall I don't see where that would be happening.\n",
    "\n",
    "## Rearranging inputs\n",
    "The report will not change if the inputs are rearranged since this classifier always generates the same output regardless of the input."
   ]
  },
  {
   "cell_type": "markdown",
   "id": "6b6928dd-c3c9-48f8-b2f4-2ff6fc7ad6cc",
   "metadata": {},
   "source": [
    "Run the following code:"
   ]
  },
  {
   "cell_type": "code",
   "execution_count": 5,
   "id": "cc3bd103-f2bb-4d3b-bc88-fd6763024195",
   "metadata": {},
   "outputs": [
    {
     "name": "stdout",
     "output_type": "stream",
     "text": [
      "              precision    recall  f1-score   support\n",
      "\n",
      "           1       1.00      1.00      1.00         3\n",
      "           2       1.00      1.00      1.00         3\n",
      "           3       1.00      1.00      1.00         3\n",
      "\n",
      "    accuracy                           1.00         9\n",
      "   macro avg       1.00      1.00      1.00         9\n",
      "weighted avg       1.00      1.00      1.00         9\n",
      "\n",
      "\n"
     ]
    }
   ],
   "source": [
    "from sklearn.metrics import classification_report\n",
    "\n",
    "y_true = [1,2,3,1,2,3,1,2,3]\n",
    "y_pred = [1,2,3,1,2,3,1,2,3]\n",
    "print(\n",
    "    f\"{classification_report(y_true, y_pred)}\\n\"\n",
    ")"
   ]
  },
  {
   "cell_type": "markdown",
   "id": "b2da9ede-188f-40cc-97e5-9b1b746a5258",
   "metadata": {},
   "source": [
    "Explain the strengths and weaknesses of the classifier that produced these results."
   ]
  },
  {
   "cell_type": "markdown",
   "id": "3c2d6446-7deb-4cd8-bf45-a7fc4cf55f35",
   "metadata": {},
   "source": [
    "## Stengths and weaknesses\n",
    "This classifier perfectly classified every input.  There were no false positives or false negatives."
   ]
  },
  {
   "cell_type": "code",
   "execution_count": null,
   "id": "a9e0d7d1-dc82-4f2e-94a1-4c9e19ac5664",
   "metadata": {},
   "outputs": [],
   "source": []
  }
 ],
 "metadata": {
  "kernelspec": {
   "display_name": "Python 3 (ipykernel)",
   "language": "python",
   "name": "python3"
  },
  "language_info": {
   "codemirror_mode": {
    "name": "ipython",
    "version": 3
   },
   "file_extension": ".py",
   "mimetype": "text/x-python",
   "name": "python",
   "nbconvert_exporter": "python",
   "pygments_lexer": "ipython3",
   "version": "3.10.13"
  }
 },
 "nbformat": 4,
 "nbformat_minor": 5
}
